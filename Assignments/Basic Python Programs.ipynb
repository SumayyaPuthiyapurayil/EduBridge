{
 "cells": [
  {
   "cell_type": "markdown",
   "id": "424f3079",
   "metadata": {},
   "source": [
    "# BASIC PYTHON PROGRAMS"
   ]
  },
  {
   "cell_type": "code",
   "execution_count": null,
   "id": "9c1c2027",
   "metadata": {},
   "outputs": [],
   "source": [
    "#Perimeter of a rectangle\n",
    "l = int(input(\"Please enter the length in whole number\"))\n",
    "w = int(input(\"Please enter the width in whole number\"))\n",
    "print(\"The perimeter of the rectangle is:\",2*(l+w))"
   ]
  },
  {
   "cell_type": "code",
   "execution_count": null,
   "id": "292b57d4",
   "metadata": {},
   "outputs": [],
   "source": [
    "#Sphere \n",
    "\n",
    "radius = float(input(Enter the radius: '))\n",
    "vol = (4/3)*3.1416*(radius*radius*radius)\n",
    "print(vol)"
   ]
  },
  {
   "cell_type": "code",
   "execution_count": null,
   "id": "d4e3db0d",
   "metadata": {},
   "outputs": [],
   "source": [
    "#Cube\n",
    "\n",
    "side = float(input(\"Enter the length of the side: \"))\n",
    "vol_cube = side * side * side\n",
    "print(vol_cube)"
   ]
  },
  {
   "cell_type": "code",
   "execution_count": null,
   "id": "ed108c7d",
   "metadata": {},
   "outputs": [],
   "source": [
    "#Perimeter of a circle\n",
    "r = int(input(\"Please enter the radius of the circle in whole number\"))\n",
    "print(\"The perimeter of the circle is: \", 2*3.14*r)"
   ]
  },
  {
   "cell_type": "code",
   "execution_count": null,
   "id": "df14609a",
   "metadata": {},
   "outputs": [],
   "source": [
    "#Perimeter of a triangle\n",
    "a = int(input('Please enter the first side of the triangle in whole number'))\n",
    "b = int(input('Please enter the second side of the triangle in whole number'))\n",
    "c = int(input('Please enter the third side of the triangle in whole number'))\n",
    "print('The perimeter of the triangle is: ',a+b+c)\n"
   ]
  },
  {
   "cell_type": "code",
   "execution_count": null,
   "id": "14946237",
   "metadata": {},
   "outputs": [],
   "source": [
    "#Reverse of a number\n",
    "num=int(input('Enter two digit number: '))\n",
    "second=num%10\n",
    "first=num//10\n",
    "reverse=(second*10)+first\n",
    "print(\"Reverse :\",reverse)\n"
   ]
  },
  {
   "cell_type": "code",
   "execution_count": null,
   "id": "b2dc5a8a",
   "metadata": {},
   "outputs": [],
   "source": []
  }
 ],
 "metadata": {
  "kernelspec": {
   "display_name": "Python 3",
   "language": "python",
   "name": "python3"
  },
  "language_info": {
   "codemirror_mode": {
    "name": "ipython",
    "version": 3
   },
   "file_extension": ".py",
   "mimetype": "text/x-python",
   "name": "python",
   "nbconvert_exporter": "python",
   "pygments_lexer": "ipython3",
   "version": "3.8.8"
  }
 },
 "nbformat": 4,
 "nbformat_minor": 5
}
