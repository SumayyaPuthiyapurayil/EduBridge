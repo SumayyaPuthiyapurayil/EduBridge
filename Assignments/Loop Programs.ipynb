{
 "cells": [
  {
   "cell_type": "markdown",
   "id": "22733213",
   "metadata": {},
   "source": [
    "# LOOP "
   ]
  },
  {
   "cell_type": "code",
   "execution_count": null,
   "id": "c0622b81",
   "metadata": {},
   "outputs": [],
   "source": [
    "#print n numbers\n",
    "i=1\n",
    "n=0\n",
    "while i<=10:\n",
    "    n=n+1\n",
    "    print(n)\n",
    "    i=i+1\n"
   ]
  },
  {
   "cell_type": "code",
   "execution_count": null,
   "id": "5e64b26c",
   "metadata": {},
   "outputs": [],
   "source": [
    "#sum of n numbers\n",
    "i=1\n",
    "sum=0\n",
    "num=int(input(\"enter the number: \"))\n",
    "while i<=num:\n",
    "    sum=sum+i\n",
    "    i=i+1\n",
    "print(sum)"
   ]
  },
  {
   "cell_type": "code",
   "execution_count": null,
   "id": "ae8bad99",
   "metadata": {},
   "outputs": [],
   "source": [
    "#factorial of a number\n",
    "num=int(input(\"enter a number: \"))\n",
    "fact=1\n",
    "for i in range(1,num+1):\n",
    "    fact=fact*i\n",
    "print(\"factorial of\",num,\"=\",fact)\n"
   ]
  },
  {
   "cell_type": "code",
   "execution_count": null,
   "id": "d1183ffe",
   "metadata": {},
   "outputs": [],
   "source": [
    "#table of numbers\n",
    "i=1\n",
    "num=int(input(\"enter a number:\"))\n",
    "lim=int(input(\"enter a lim:\"))\n",
    "print(\"table of\",num,\"is\")\n",
    "while i<=lim:\n",
    "    print(i,\"*\",num,\"=\",num*i)\n",
    "    i=i+1"
   ]
  },
  {
   "cell_type": "code",
   "execution_count": null,
   "id": "0726298b",
   "metadata": {},
   "outputs": [],
   "source": [
    "#print even n numbers\n",
    "\n",
    "n = int(input(\"Please enter a number!\"))\n",
    "i=2\n",
    "while i<=n:\n",
    "    print(i)\n",
    "    i=i+2"
   ]
  },
  {
   "cell_type": "code",
   "execution_count": null,
   "id": "47365655",
   "metadata": {},
   "outputs": [],
   "source": [
    "#check given number is prime number\n",
    "\n",
    "n=int(input(\"please enter the number: \"))\n",
    "i=2\n",
    "isPrime=True\n",
    "while i<=9 and isPrime == True and i!=n:\n",
    "    if n%i==0:\n",
    "        isPrime=False\n",
    "    i=i+1\n",
    "if isPrime==True:\n",
    "    print(\"given number is prime\")\n",
    "else:\n",
    "    print(\"given number is not prime\")"
   ]
  },
  {
   "cell_type": "code",
   "execution_count": null,
   "id": "4d5e74d3",
   "metadata": {},
   "outputs": [],
   "source": [
    "#print a pyramyd using nested loop\n",
    "\n",
    "for i in range(6):\n",
    "    for j in range(i):\n",
    "        print(i,end=\"\")\n",
    "    print()\n",
    "\n",
    "print()\n",
    "\n",
    "for i in range(5,0,-1):\n",
    "    for j in range(i):\n",
    "        print(i,end=\"\")\n",
    "    print()"
   ]
  }
 ],
 "metadata": {
  "kernelspec": {
   "display_name": "Python 3",
   "language": "python",
   "name": "python3"
  },
  "language_info": {
   "codemirror_mode": {
    "name": "ipython",
    "version": 3
   },
   "file_extension": ".py",
   "mimetype": "text/x-python",
   "name": "python",
   "nbconvert_exporter": "python",
   "pygments_lexer": "ipython3",
   "version": "3.8.8"
  }
 },
 "nbformat": 4,
 "nbformat_minor": 5
}
