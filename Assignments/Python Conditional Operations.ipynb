{
 "cells": [
  {
   "cell_type": "markdown",
   "id": "1e7bb9b9",
   "metadata": {},
   "source": [
    "# Conditional Operations"
   ]
  },
  {
   "cell_type": "code",
   "execution_count": null,
   "id": "8046a142",
   "metadata": {},
   "outputs": [],
   "source": [
    "#Numbers are equal or not\n",
    "a=int(input(\"Enter the number\"))\n",
    "b=int(input(\"Enter the number\"))\n",
    "if a==b:\n",
    "    print('numbers are equal')\n",
    "else:\n",
    "    print('numbers are not equal')"
   ]
  },
  {
   "cell_type": "code",
   "execution_count": null,
   "id": "5fbf0141",
   "metadata": {},
   "outputs": [],
   "source": [
    "#find the greatest number\n",
    "n1=int(input(\"Enter 3 numbers\"))\n",
    "n2=int(input())\n",
    "n3=int(input())\n",
    "if n1>n2:\n",
    "    if n1>n3:\n",
    "        print(n1, \"is greater\")\n",
    "    else:\n",
    "        print(n3, \"is greater\")\n",
    "else:\n",
    "    if n2>n3:\n",
    "        print(n2,\"is greater\")\n",
    "    else:\n",
    "        print(n3, \"is greater\")"
   ]
  },
  {
   "cell_type": "code",
   "execution_count": null,
   "id": "ee655e09",
   "metadata": {},
   "outputs": [],
   "source": [
    "#10% bonus when salary greater than 10000\n",
    "\n",
    "salary=float(input(\"Please enter your salary\"))\n",
    "if salary>10000:\n",
    "    print(\"Your 10% bonus is :\",salary*.1)\n",
    "else:\n",
    "    print(\"You are not eligible for bonus!!\")"
   ]
  },
  {
   "cell_type": "code",
   "execution_count": null,
   "id": "528749b3",
   "metadata": {},
   "outputs": [],
   "source": [
    "#find the smallest number\n",
    "n1=int(input(\"enter first number\"))\n",
    "n2=int(input(\"enter second number\"))\n",
    "if n1<n2:\n",
    "    smallest=n1\n",
    "else:\n",
    "    smallest=n2\n",
    "print(\"the smallest number is: \",smallest)    \n"
   ]
  },
  {
   "cell_type": "code",
   "execution_count": null,
   "id": "a050cd21",
   "metadata": {},
   "outputs": [],
   "source": [
    "#print respective day according to number 1 to 7\n",
    "n=int(input(\"please enter the number between 1 to 7!: \"))\n",
    "if n==1:\n",
    "    print(\"monday\")\n",
    "elif n==2:\n",
    "    print(\"tuesday\")\n",
    "elif n==3:\n",
    "    print(\"wednesday\")\n",
    "elif n==4:\n",
    "    print(\"thursday\")\n",
    "elif n==5:\n",
    "    print(\"friday\")\n",
    "elif n==6:\n",
    "    print(\"saturday\")\n",
    "elif n==7:\n",
    "    print(\"sunday\")\n",
    "\n",
    "    "
   ]
  },
  {
   "cell_type": "code",
   "execution_count": null,
   "id": "bb832db0",
   "metadata": {},
   "outputs": [],
   "source": []
  },
  {
   "cell_type": "code",
   "execution_count": null,
   "id": "17ad4b9c",
   "metadata": {},
   "outputs": [],
   "source": [
    "#print grade for the marks according to the given criteria\n",
    "mark=int(input(\"please enter your mark: \"))\n",
    "if mark>90:\n",
    "    print(\"your grade is:A\")\n",
    "elif mark>75:\n",
    "    print(\"your grade is:B\")\n",
    "elif mark>65:\n",
    "    print(\"your grade is:C\")\n",
    "elif mark>50:\n",
    "    print(\"your grade is:D\")\n",
    "else:\n",
    "    print(\"Sorry!!you are failed\")"
   ]
  },
  {
   "cell_type": "code",
   "execution_count": null,
   "id": "bbbbfa0a",
   "metadata": {},
   "outputs": [],
   "source": [
    "# print 3 numbers in ascending order\n",
    "\n",
    "n1=int(input(\"enter the first number\"))\n",
    "n2=int(input(\"enter the second number\"))\n",
    "n3=int(input(\"enter the third number\"))\n",
    "if n1<n2 and n2<n3:\n",
    "    print(str(n1)+\",\"+str(n2)+\",\"+str(n3))\n",
    "elif n1<n2 and n1<n3:\n",
    "    print(str(n1)+\",\"+str(n3)+\",\"+str(n2))\n",
    "elif n2<n1 and n1<n3:\n",
    "    print(str(n2)+\",\"+str(n1)+\",\"+str(n3))\n",
    "elif n2<n1 and n2<n3:\n",
    "    print(str(n2)+\",\"+str(n1)+\",\"+str(n3))\n",
    "elif n3<n1 and n2<n1:\n",
    "    print(str(n3)+\",\"+str(n2)+\",\"+str(n1))\n",
    "else:\n",
    "    print(str(n3)+\",\"+str(n1)+\",\"+str(n2))"
   ]
  },
  {
   "cell_type": "code",
   "execution_count": null,
   "id": "7a1b6e4f",
   "metadata": {},
   "outputs": [],
   "source": [
    "# print the numbers in descending order\n",
    "\n",
    "a=int(input(\"Enter the number\"))\n",
    "b=int(input(\"Enter the number\"))\n",
    "c=int(input(\"Enter the number\"))\n",
    "if a>b>c:\n",
    "    print(a,b,c)\n",
    "elif b>c>a:\n",
    "    print(b,c,a)\n",
    "elif a>c>b:\n",
    "    print(a,c,b)\n",
    "elif b>a>c:\n",
    "    print(b,a,c)\n",
    "elif c>b>a:\n",
    "    print(c,b,a)\n",
    "else:\n",
    "    print(c,a,b)"
   ]
  },
  {
   "cell_type": "code",
   "execution_count": null,
   "id": "1e5c7343",
   "metadata": {},
   "outputs": [],
   "source": [
    "#calculator\n",
    "\n",
    "a=int(input(\"first number\")\n",
    "op=input(\"please enter operator from the list[+,-,*,/]\")\n",
    "b=int(input(\"second number\"))\n",
    "if op==\"+\":\n",
    "      print(a+b)\n",
    "elif op==\"-\":\n",
    "      print(a-b)\n",
    "elif op==\"*\":\n",
    "      print(a*b)\n",
    "elif op==\"/\":\n",
    "      print(a/b)\n",
    "else\n",
    "      print(\"please enter the operator from the list(+,-,*,/)\")\n"
   ]
  }
 ],
 "metadata": {
  "kernelspec": {
   "display_name": "Python 3",
   "language": "python",
   "name": "python3"
  },
  "language_info": {
   "codemirror_mode": {
    "name": "ipython",
    "version": 3
   },
   "file_extension": ".py",
   "mimetype": "text/x-python",
   "name": "python",
   "nbconvert_exporter": "python",
   "pygments_lexer": "ipython3",
   "version": "3.8.8"
  }
 },
 "nbformat": 4,
 "nbformat_minor": 5
}
